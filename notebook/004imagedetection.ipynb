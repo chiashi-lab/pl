{
 "cells": [
  {
   "cell_type": "code",
   "execution_count": null,
   "id": "a456911b",
   "metadata": {},
   "outputs": [],
   "source": [
    "import os\n",
    "import sys\n",
    "import pandas as pd\n",
    "import numpy as np\n",
    "import matplotlib.pyplot as plt\n",
    "import PIL\n",
    "import cv2\n",
    "import torch\n",
    "from torch.utils.data import DataLoader, Dataset\n",
    "from torchvision.transforms import v2\n",
    "import timm"
   ]
  },
  {
   "cell_type": "code",
   "execution_count": 2,
   "id": "b6f3cb93",
   "metadata": {},
   "outputs": [
    {
     "name": "stdout",
     "output_type": "stream",
     "text": [
      "Using device: cuda\n"
     ]
    }
   ],
   "source": [
    "device = torch.device(\"cuda\" if torch.cuda.is_available() else \"cpu\")\n",
    "print(f\"Using device: {device}\")"
   ]
  },
  {
   "cell_type": "code",
   "execution_count": null,
   "id": "11ed5ced",
   "metadata": {},
   "outputs": [],
   "source": [
    "\"\"\"\n",
    "#label_csv is like this:\n",
    "#\n",
    "# image_id, probabilty_Si, probabilty_SWCNT\n",
    "\n",
    "\"\"\"\n",
    "class kanaiDataset(Dataset):\n",
    "    def __init__(self, image_data_path, label_csv_path, transform=None):\n",
    "        self.transform = transform\n",
    "        self.label_df = pd.read_csv(label_csv_path, comment='#', header=None, sep=None, engine='python', encoding='cp932')\n",
    "\n",
    "        self.images = []\n",
    "        self.labels = []\n",
    "        for i in range(len(self.label_df)):\n",
    "            if not os.path.exists(os.path.join(image_data_path, str(self.label_df.iloc[i, 0])+'.tiff')):\n",
    "                print(f\"Image {str(self.label_df.iloc[i, 0])}.tiff not found in {image_data_path}\")\n",
    "                continue\n",
    "            image = PIL.Image.open(os.path.join(image_data_path, str(self.label_df.iloc[i, 0])+'.tiff'))\n",
    "            label = torch.tensor([self.label_df.iloc[i, 1], self.label_df.iloc[i, 2]])\n",
    "            self.images.append(image)\n",
    "            self.labels.append(label)\n",
    "\n",
    "    def __len__(self):\n",
    "        return len(self.labels)\n",
    "\n",
    "    def __getitem__(self, idx):\n",
    "        image = self.images[idx]\n",
    "        label = self.labels[idx]\n",
    "        if self.transform:\n",
    "            image = self.transform(image)\n",
    "        return image, label"
   ]
  },
  {
   "cell_type": "code",
   "execution_count": null,
   "id": "9af339e8",
   "metadata": {},
   "outputs": [],
   "source": [
    "transform = v2.Compose([\n",
    "    v2.ToImage(), #torch Image型への変換。channel/height/widthの順番に変換される。\n",
    "    v2.ToDtype(torch.float16, scale=True), #torch.float16型への変換。scale=Trueで0-1の範囲に変換される。\n",
    "    #PLの測定データに関しては各ピクセルの値（各CCD素子の値）自体も重要な情報なので、scale=Falseにしても良いかもしれない。\n",
    "])"
   ]
  },
  {
   "cell_type": "code",
   "execution_count": null,
   "id": "8189b49b",
   "metadata": {},
   "outputs": [],
   "source": [
    "model = timm.create_model('tf_efficientnetv2_b2.in1k', pretrained=True)"
   ]
  },
  {
   "cell_type": "code",
   "execution_count": null,
   "id": "dce354d1",
   "metadata": {},
   "outputs": [],
   "source": [
    "lr = 1e-4"
   ]
  },
  {
   "cell_type": "code",
   "execution_count": null,
   "id": "06336de4",
   "metadata": {},
   "outputs": [],
   "source": [
    "optimizer = torch.optim.Adam(model.parameters(), lr=lr)"
   ]
  }
 ],
 "metadata": {
  "kernelspec": {
   "display_name": "venv",
   "language": "python",
   "name": "python3"
  },
  "language_info": {
   "codemirror_mode": {
    "name": "ipython",
    "version": 3
   },
   "file_extension": ".py",
   "mimetype": "text/x-python",
   "name": "python",
   "nbconvert_exporter": "python",
   "pygments_lexer": "ipython3",
   "version": "3.12.10"
  }
 },
 "nbformat": 4,
 "nbformat_minor": 5
}
